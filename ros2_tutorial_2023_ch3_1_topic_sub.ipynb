{
 "cells": [
  {
   "cell_type": "code",
   "execution_count": null,
   "id": "2e191589-403f-43c1-83b0-1d55f0ce88fe",
   "metadata": {},
   "outputs": [],
   "source": [
    "# topic subscription 1\n",
    "import rclpy as rp\n",
    "from turtlesim.msg import Pose\n",
    "\n",
    "rp.init()\n",
    "test_node = rp.create_node('sub_test')\n",
    "\n",
    "def callback(data):\n",
    "    print(\"-->\")\n",
    "    print(\"turtle1/pose : \",data)\n",
    "    print(\"X: \", data.x)\n",
    "    print(\"Y: \", data.y)\n",
    "    print(\"Theta: \",data.theta)\n",
    "\n",
    "test_node.create_subscription(Pose, '/turtle1/pose', callback, 10)"
   ]
  },
  {
   "cell_type": "code",
   "execution_count": null,
   "id": "37499afc",
   "metadata": {},
   "outputs": [],
   "source": [
    "rp.spin_once(test_node)"
   ]
  },
  {
   "cell_type": "code",
   "execution_count": null,
   "id": "5c9a8710",
   "metadata": {},
   "outputs": [],
   "source": [
    "# topic subscription 2\n",
    "test_node2 = rp.create_node('sub_test2')\n",
    "\n",
    "cnt = 0\n",
    "def callback2(data):\n",
    "    global cnt\n",
    "    cnt += 1\n",
    "    print(\">\", cnt, \" -> X : \", data.x, \", Y : \", data.y)\n",
    "    if cnt > 3:\n",
    "        raise Exception(\"Subscription Stop\")\n",
    "\n",
    "test_node2.create_subscription(Pose, '/turtle1/pose', callback2, 10)"
   ]
  },
  {
   "cell_type": "code",
   "execution_count": null,
   "id": "3ef1bc76",
   "metadata": {},
   "outputs": [],
   "source": [
    "rp.spin(test_node2)"
   ]
  },
  {
   "cell_type": "code",
   "execution_count": null,
   "id": "fe900469",
   "metadata": {},
   "outputs": [],
   "source": []
  },
  {
   "cell_type": "code",
   "execution_count": null,
   "id": "2f36a249-5807-4a8b-8b1f-1e896447e9d9",
   "metadata": {},
   "outputs": [],
   "source": []
  },
  {
   "cell_type": "code",
   "execution_count": null,
   "id": "56764cdf-fd7d-4b3c-8ec4-d00547cd3894",
   "metadata": {},
   "outputs": [],
   "source": []
  },
  {
   "cell_type": "code",
   "execution_count": null,
   "id": "4adc6057",
   "metadata": {},
   "outputs": [],
   "source": []
  },
  {
   "cell_type": "code",
   "execution_count": null,
   "id": "462c715d-62cb-4cbd-95fa-39a3ee827c75",
   "metadata": {},
   "outputs": [],
   "source": []
  },
  {
   "cell_type": "code",
   "execution_count": null,
   "id": "941a8704-9054-498d-805c-3be8a32afd8e",
   "metadata": {},
   "outputs": [],
   "source": []
  },
  {
   "cell_type": "code",
   "execution_count": null,
   "id": "79df7cb9-359b-4166-aad7-c895124079a0",
   "metadata": {},
   "outputs": [],
   "source": []
  }
 ],
 "metadata": {
  "kernelspec": {
   "display_name": "Python 3 (ipykernel)",
   "language": "python",
   "name": "python3"
  },
  "language_info": {
   "codemirror_mode": {
    "name": "ipython",
    "version": 3
   },
   "file_extension": ".py",
   "mimetype": "text/x-python",
   "name": "python",
   "nbconvert_exporter": "python",
   "pygments_lexer": "ipython3",
   "version": "3.8.10"
  }
 },
 "nbformat": 4,
 "nbformat_minor": 5
}
