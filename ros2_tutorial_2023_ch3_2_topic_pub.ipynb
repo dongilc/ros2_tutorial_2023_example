{
 "cells": [
  {
   "cell_type": "code",
   "execution_count": null,
   "metadata": {},
   "outputs": [],
   "source": [
    "# Topic publish 1\n",
    "import rclpy as rp\n",
    "from geometry_msgs.msg import Twist\n",
    "\n",
    "rp.init()\n",
    "test_node = rp.create_node('pub_test')\n",
    "\n",
    "msg = Twist()\n",
    "print(msg)"
   ]
  },
  {
   "cell_type": "code",
   "execution_count": null,
   "metadata": {},
   "outputs": [],
   "source": [
    "msg.linear.x = 2.0\n",
    "pub = test_node.create_publisher(Twist, '/turtle1/cmd_vel', 10)\n",
    "pub.publish(msg)"
   ]
  },
  {
   "cell_type": "code",
   "execution_count": null,
   "metadata": {},
   "outputs": [],
   "source": [
    "msg.linear.x = 2.0\n",
    "msg.angular.z = 2.0\n",
    "pub = test_node.create_publisher(Twist, '/turtle1/cmd_vel', 10)\n",
    "pub.publish(msg)"
   ]
  },
  {
   "cell_type": "code",
   "execution_count": null,
   "metadata": {},
   "outputs": [],
   "source": [
    "cnt = 0\n",
    "def timer_callback():\n",
    "    global cnt\n",
    "    cnt += 1\n",
    "\n",
    "    print(cnt)\n",
    "    pub.publish(msg)\n",
    "\n",
    "    if cnt > 20:\n",
    "        raise Exception(\"Publisher Stop\")"
   ]
  },
  {
   "cell_type": "code",
   "execution_count": null,
   "metadata": {},
   "outputs": [],
   "source": [
    "timer_period = 0.1\n",
    "timer_period = test_node.create_timer(timer_period, timer_callback)\n",
    "rp.spin(test_node)"
   ]
  },
  {
   "cell_type": "code",
   "execution_count": null,
   "metadata": {},
   "outputs": [],
   "source": [
    "test_node.destroy_node()"
   ]
  },
  {
   "cell_type": "code",
   "execution_count": null,
   "metadata": {},
   "outputs": [],
   "source": []
  }
 ],
 "metadata": {
  "kernelspec": {
   "display_name": "Python 3",
   "language": "python",
   "name": "python3"
  },
  "language_info": {
   "codemirror_mode": {
    "name": "ipython",
    "version": 3
   },
   "file_extension": ".py",
   "mimetype": "text/x-python",
   "name": "python",
   "nbconvert_exporter": "python",
   "pygments_lexer": "ipython3",
   "version": "3.8.10"
  },
  "orig_nbformat": 4
 },
 "nbformat": 4,
 "nbformat_minor": 2
}
